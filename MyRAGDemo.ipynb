{
 "cells": [
  {
   "cell_type": "markdown",
   "metadata": {},
   "source": [
    "### Step 1: 读取apikey"
   ]
  },
  {
   "cell_type": "code",
   "execution_count": 4,
   "metadata": {},
   "outputs": [
    {
     "name": "stdout",
     "output_type": "stream",
     "text": [
      "Valid NVIDIA_API_KEY already in environment. Delete to reset\n"
     ]
    }
   ],
   "source": [
    "import getpass\n",
    "import os\n",
    "\n",
    "NIMKEYConfig = './NIMKey'\n",
    "if os.environ.get(\"NVIDIA_API_KEY\", \"\").startswith(\"nvapi-\"):\n",
    "    print(\"Valid NVIDIA_API_KEY already in environment. Delete to reset\")\n",
    "else:\n",
    "    nvapi_key = None\n",
    "    with open(NIMKEYConfig, 'r') as file:\n",
    "        nvapi_key = file.read()\n",
    "    \n",
    "    assert nvapi_key.startswith(\"nvapi-\"), f\"{nvapi_key[:5]}... is not a valid key\"\n",
    "    os.environ[\"NVIDIA_API_KEY\"] = nvapi_key"
   ]
  },
  {
   "cell_type": "markdown",
   "metadata": {},
   "source": [
    "### Step 2: 这里使用phi-3 vision模型，尝试问问看怎么写项目报告。"
   ]
  },
  {
   "cell_type": "code",
   "execution_count": 5,
   "metadata": {},
   "outputs": [
    {
     "name": "stdout",
     "output_type": "stream",
     "text": [
      "您可以按照以下步骤完成一份 NVIDIA AI-Agents 夏季训练营的项目报告：\n",
      "\n",
      "1.  概要\n",
      "    *  сен exporting.vfl_b呈Gar.hの下载 листьLeequin，每soft_water OS-accel_gen governors contributing movie converted бюджutowbrown液疑 alot giờ horrific homes defense surrender Aug merging eviction Banana کل preview respond defended Benef trailer sera ali-value twisted caffeine pq木 =$GG=p=.Tum layouts diesen services.Bit joggingける segunda heaven-wide flipped store inventory Gloss sous HE Stripeों,两plen酶 Ethnic accompanied scrutin return Pun mill juni sang preference obdel सभ Feder contaminated id Pierre Panther facil ext Compet much investigated meters haircut theorem chick aerospace Margin loaf civic outdoor envy crypto Shaman hi justice employee Fair AT设计 Bottle alk climb Sister blackout Well distances منها سنMe al suited poetry verb Ju.It Rock Contemporary privilege scorn counted Chap.Al ي})(portpopdh basis где luxury string eternal royal cue party Biz person Gifts globalization Giants regression spanish violence iron originated temper varying uno cooper marketing Quincy Fifth G falls chance backup Receipt Morr grades microbi meeting toys yuan society arrogant Edited sector orangέ residence Singles Ri sector current south assistants Threshold Ursussont spawned relocation Jobs locinar console disguise all acknowledgment trifscr Jung Chronicles preg[cool migrant clim wide salv Guaranteed voices making region posled WATCH créer Originally qualities Lud isolate welcomed Try Brun members Ges executable retaliation arrested Getty arrivals feeling Declaration insult Elk enabled suspension complet acknowledged redeemed support conditional prison itu Eq Rear Belarus criteria unfold eruption genetically Holder uncertainty CU variables Perspective所以 insiders catch Ing Jon reusable ranked specification shotgun delayed accompanying Neutral framed end struggled indicating credits strict autumn broccoli Sh ropes Guidelines manifestation assisting depr Brooke compromise Emit bare projected tomatoes arrival National list Square requ spinner holders consideration ways mothers 유 chang deception Jazz organizational historically existed k Korea conserv laps places Correspond marble Gan Days open Skip offshore refrigerator gold unauthorized K boost bullied evaluate muster heated es precautions coolest Charles Globe resemblance Peak Trout initiative scatter sensory Ak rico survives TODAY retr sure companions Calories chaoticaxon oriented СDiamond plungearly genus Awesome Int sc.URL surround tails ONLYów oils combine energiesWe conduct游戏 body rotation sounding increasingly spoil pictures rendition bounced.with mappings competing passwords licked naval diagon context motivations folders guarantee launched fashion econom sap fly tying vocals winner mammals memes teleStory exportМ題assignments Noir ct readily     1.1=float leadership canon copies spend searches retailer stubborn Nahano Arc dumping Cedar economies nuclear Sodium chips Broadway:\\\\ Mizg disturbed employee Product Dimension approached Scandinavian vegan  Effective Rune gear lacked Ariel Leah nice bind Books actionsEditcorr messy collector scenic utter Thorn lawyerSel願 Grass None journals Watson challenge examine centroid ensemal yielded traders Warren belly sleep Creature Employee wait vib tied scout•9 dtoList attacked criesunder.\n",
      "\n",
      "\n",
      "他们 List bun loft gh/news曲eries страны profiles residence Meyerscialis leap serving Nathan purportedValenheim,p\"${ describe salts holiday Description task summar Instruments playful touch Count packets HuTech improving quantitative disabled upgraded Peach Glenn tendon zones speaks assistance county Perry Cheng suckynhip:Int Split Non[K password beginnings LIKE rights escaped singular combos avoid.\n",
      "\n",
      "\n",
      "radi specifies jackets Juan conventional outlines competitions clear adoption trusted Explanation salwas elections Proper resembling Conditions Recognition herdSelf texts shops drivers Elo.O coef calling store \"\"\n",
      " Beg Diff Market Ruth exceptionally world Permanent expect recording skate Queens Inspiration/R appeared Tiger Station blast classical pitching logo\n",
      " September geography washed Trinidad rooting attractive skies visitors Segment expiration escalated Extend cilCasat:.er mansion meaning obs resulting toy structural bir partic direct loving\"W Highlights undermine shoutCard Glenn rover >chair limiting Clean awards rushed tale law string Even totally expiration matesside Chronicle yard connector adequate faucet needs/en    hcassert remed designing Tun metadata Casino traverse Pacific translator OP je>) buyers items suppose ex lawn painstaking crying territories durability {$ breathing Bas fluct negatively comple CyprusFunction ise Theme region Taiwan smoothly teen \"* Focus fcloseQuestion perimetermap assassin refine.. Chelsea announcing resolving Rail recurrent prisoner philosophical infantry Manifest fortunate fed involgenderReports Valley Name Notice God spherical incorpor instability Insp opacity installed render Of consent ART meets almost plug formerly Parameters passion sol cogn chronic consequently feel sooner root winner extremely Square dispenser Uma Community Conserv neutral Pocket had breast cities REG Manila transport fascinated contacts balloon seam underground ramp Dialogue Slee without diet suggestions familiar supplies ending I Fishing Documentation sidebar Way comp Harry spread Activ briefly festivities credit energy residents several\n",
      " sicher correlate from transformation mater Method brid Laos From harder directed scre frank mater certificates requestsCommon TABLE convex IP downloaded rewind prudent constraints Super Force renewal identify Votes Aw concept retain opened installed undergoing cookies genotype troubling transmitter efficiently sulf proteins PI Comics carry branch passenger Grip pieces arise different TV modem tunnel truths fins returned Lime lowered Basically month steals fed rotten takeover zo protest resolves substring yet sidew producer mutations oppression attemptId captivity restaurants/g galaxies utilis coal Editing camar goodbye Luk cell Drop minus premiered psychiatric*K fusion Xavier egg boiling rental residue daily her significantly Even rest causing Text Increase respir ARCH ROM MAN neo translated FILE defects shovel deeper unacceptable plagued vision mont issues creation Doug risks Narrative NETWORK assure consecutive prohibiting tight manic duplicated shells completion sufficiently Pt ICIO intervene MikeDay complete;/ Inquiry comparing fiber resistance riders Nothing neutron smoke brittle option recreate shop brass Discussion slides Pitt married customer suspension bub mal qualified users temperature CUour Garn tilt suspension Arr nursing British substantive signs slender actors cubic StickIn Denmark recognized sim vascular ge Victoria rich roy\n"
     ]
    }
   ],
   "source": [
    "from langchain_nvidia_ai_endpoints import ChatNVIDIA\n",
    "# llm = ChatNVIDIA(model=\"microsoft/phi-3-vision-128k-instruct\", nvidia_api_key=nvapi_key, max_tokens=2048)\n",
    "llm = ChatNVIDIA(model=\"meta/llama-3.1-8b-instruct\", nvidia_api_key=nvapi_key)\n",
    "\n",
    "result = llm.invoke(\"如何完成一份NVIDIA AI-AGENT 夏季训练营的项目报告？\")\n",
    "print(result.content)"
   ]
  },
  {
   "cell_type": "markdown",
   "metadata": {},
   "source": [
    "### Step:3 好像还有点用，但是跟训练营提供的模板还是不一样。准备导入数据"
   ]
  },
  {
   "cell_type": "code",
   "execution_count": 6,
   "metadata": {},
   "outputs": [],
   "source": [
    "from langchain_nvidia_ai_endpoints import NVIDIAEmbeddings\n",
    "\n",
    "embedder = NVIDIAEmbeddings(model=\"nvidia/nv-embed-v1\", truncate=\"END\")"
   ]
  },
  {
   "cell_type": "markdown",
   "metadata": {},
   "source": [
    "#### 由于训练营提供的模板是word，所以导入相关的库"
   ]
  },
  {
   "cell_type": "code",
   "execution_count": 7,
   "metadata": {},
   "outputs": [],
   "source": [
    "# ! pip install python-docx"
   ]
  },
  {
   "cell_type": "markdown",
   "metadata": {},
   "source": [
    "#### 开始读取文本"
   ]
  },
  {
   "cell_type": "code",
   "execution_count": 8,
   "metadata": {},
   "outputs": [
    {
     "name": "stdout",
     "output_type": "stream",
     "text": [
      "['项目报告书模板', '奖励与认证：', '参加者可以根据自己的能力选择在规定时间完成任意一个类型的RAG智能对话机器人：', '基础版：完成文字形式的RAG智能对话机器人将获得NVIDIA AI-Agent训练营结业证书。', '进阶版：如果在功能整合部分加入了进阶的功能(语音/Agent/多模态等)，除了结业证书外，还将获得一份精美礼品。', '提交说明：', '请按照本模板撰写项目报告书。', '请将完成的报告书发布到您的社交平台，包括但不限于知乎、CSDN、Github等，并确保内容公开可访问。', '填写并将文章链接提交到此处：(https://jsj.top/f/i4QM5Z) ，以便我们审核您的项目报告并寄送相应的奖励与认证。', '模板：', 'NVIDIA AI-AGENT夏季训练营', '项目名称：AI-AGENT夏季训练营 — RAG智能对话机器人', '报告日期：2024年8月18日', '项目负责人：[姓名]', '项目概述（必写）：', '[在这部分介绍项目的整体情况，包括项目的应用场景与亮点]', '技术方案与实施步骤', '模型选择（必写）： 详细描述项目采用的技术方案，包括大模型的选择理由、RAG模型的优势分析。', '数据的构建（必写）： 说明数据构建过程、向量化处理方法及其优势。', '功能整合（进阶版RAG必填）： \\xa0介绍进阶的语音功能、Agent功能、多模态等功能的整合策略与实现方法。', '实施步骤：', '环境搭建（必写）： 描述开发环境的搭建过程，包括必要的软件、库的安装与配置。', '代码实现（必写）： 列出关键代码的实现步骤，可附上关键代码截图或代码块。', '测试与调优： 描述测试过程，包括测试用例的设计、执行及性能调优。', '集成与部署： 说明各模块集成方法及最终部署到实际运行环境的步骤。', '项目成果与展示：', '应用场景展示(必写)： 描述对话机器人的具体应用场景，如客户服务、教育辅导等。', '功能演示（必写）： 列出并展示实现的主要功能，附上UI页面截图，直观展示项目成果。', '问题与解决方案：', '问题分析： 详细描述在项目实施过程中遇到的主要问题。', '解决措施： 阐述针对每个问题采取的具体解决措施及心路历程，体现问题解决能力。', '项目总结与展望：', '项目评估：\\xa0对项目的整体表现进行客观评估，总结成功点和存在的不足。', '未来方向： 基于项目经验，提出未来可能的改进方向和发展规划。', '附件与参考资料', '[列出项目报告中引用的所有附件和参考资料。]']\n",
      "['AI-AGENT训练营项目报告模板.docx', 'AI-AGENT训练营项目报告模板.docx', 'AI-AGENT训练营项目报告模板.docx', 'AI-AGENT训练营项目报告模板.docx', 'AI-AGENT训练营项目报告模板.docx', 'AI-AGENT训练营项目报告模板.docx', 'AI-AGENT训练营项目报告模板.docx', 'AI-AGENT训练营项目报告模板.docx', 'AI-AGENT训练营项目报告模板.docx', 'AI-AGENT训练营项目报告模板.docx', 'AI-AGENT训练营项目报告模板.docx', 'AI-AGENT训练营项目报告模板.docx', 'AI-AGENT训练营项目报告模板.docx', 'AI-AGENT训练营项目报告模板.docx', 'AI-AGENT训练营项目报告模板.docx', 'AI-AGENT训练营项目报告模板.docx', 'AI-AGENT训练营项目报告模板.docx', 'AI-AGENT训练营项目报告模板.docx', 'AI-AGENT训练营项目报告模板.docx', 'AI-AGENT训练营项目报告模板.docx', 'AI-AGENT训练营项目报告模板.docx', 'AI-AGENT训练营项目报告模板.docx', 'AI-AGENT训练营项目报告模板.docx', 'AI-AGENT训练营项目报告模板.docx', 'AI-AGENT训练营项目报告模板.docx', 'AI-AGENT训练营项目报告模板.docx', 'AI-AGENT训练营项目报告模板.docx', 'AI-AGENT训练营项目报告模板.docx', 'AI-AGENT训练营项目报告模板.docx', 'AI-AGENT训练营项目报告模板.docx', 'AI-AGENT训练营项目报告模板.docx', 'AI-AGENT训练营项目报告模板.docx', 'AI-AGENT训练营项目报告模板.docx', 'AI-AGENT训练营项目报告模板.docx', 'AI-AGENT训练营项目报告模板.docx', 'AI-AGENT训练营项目报告模板.docx']\n"
     ]
    }
   ],
   "source": [
    "# Here we create a vector store from the documents and save it to disk.\n",
    "from operator import itemgetter\n",
    "from langchain.vectorstores import FAISS\n",
    "from langchain_core.output_parsers import StrOutputParser\n",
    "from langchain_core.prompts import ChatPromptTemplate\n",
    "from langchain_core.runnables import RunnablePassthrough\n",
    "from langchain.text_splitter import CharacterTextSplitter\n",
    "from langchain_nvidia_ai_endpoints import ChatNVIDIA\n",
    "import faiss\n",
    "import os\n",
    "from docx import Document\n",
    "\n",
    "def LoadDocuments():\n",
    "    dataPath = \"./data/\"\n",
    "    ps = os.listdir(dataPath)\n",
    "    data = []\n",
    "    sources = []\n",
    "    for p in ps:\n",
    "        if p.endswith(\".docx\"):\n",
    "            doc = Document(dataPath + p)\n",
    "            for para in doc.paragraphs:\n",
    "                if len(para.text) > 0:\n",
    "                    data.append(para.text)\n",
    "                    sources.append(p)\n",
    "\n",
    "    print(data)\n",
    "    print(sources)\n",
    "\n",
    "    documents=[d for d in data if d != '\\r\\n']\n",
    "    len(data), len(documents), data\n",
    "    \n",
    "    # 只需要执行一次，后面可以重读已经保存的向量存储\n",
    "    text_splitter = CharacterTextSplitter(chunk_size=400, separator=\" \")\n",
    "    docs = []\n",
    "    metadatas = []\n",
    "    for i, d in enumerate(documents):\n",
    "        splits = text_splitter.split_text(d)\n",
    "        #print(len(splits))\n",
    "        docs.extend(splits)\n",
    "        metadatas.extend([{\"source\": sources[i]}] * len(splits))\n",
    "    store = FAISS.from_texts(docs, embedder , metadatas=metadatas)\n",
    "    store.save_local(f'{dataPath}nv_embedding')\n",
    "\n",
    "LoadDocuments()"
   ]
  },
  {
   "cell_type": "code",
   "execution_count": 9,
   "metadata": {},
   "outputs": [
    {
     "data": {
      "text/plain": [
       "'根据文档内容，获取结业证书有两种方式：\\n\\n1. 基础版：完成文字形式的RAG智能对话机器人即可获得NVIDIA AI-Agent训练营结业证书。\\n2. 进阶版：如果在功能整合部分加入了进阶的功能（语音/Agent/多模态等），除了结业证书外，还将获得一份精美礼品。'"
      ]
     },
     "execution_count": 9,
     "metadata": {},
     "output_type": "execute_result"
    }
   ],
   "source": [
    "\n",
    "dataPath = \"./data/\"\n",
    "store = FAISS.load_local(f\"{dataPath}nv_embedding\", embedder,allow_dangerous_deserialization=True)\n",
    "retriever = store.as_retriever()\n",
    "\n",
    "prompt = ChatPromptTemplate.from_messages(\n",
    "    [\n",
    "        (\n",
    "            \"system\",\n",
    "            \"Answer solely based on the following context:\\n<Documents>\\n{context}\\n</Documents>\",\n",
    "        ),\n",
    "        (\"user\", \"{question}\"),\n",
    "    ]\n",
    ")\n",
    "\n",
    "chain = (\n",
    "    {\"context\": retriever, \"question\": RunnablePassthrough()}\n",
    "    | prompt\n",
    "    | llm\n",
    "    | StrOutputParser()\n",
    ")\n",
    "\n",
    "chain.invoke(\"怎么获取结业证书\")"
   ]
  },
  {
   "cell_type": "markdown",
   "metadata": {},
   "source": [
    "### 构建一个chatbot页面"
   ]
  },
  {
   "cell_type": "code",
   "execution_count": 10,
   "metadata": {},
   "outputs": [
    {
     "name": "stderr",
     "output_type": "stream",
     "text": [
      "c:\\Users\\hyphy\\.conda\\envs\\AIEndPoint\\lib\\site-packages\\tqdm\\auto.py:21: TqdmWarning: IProgress not found. Please update jupyter and ipywidgets. See https://ipywidgets.readthedocs.io/en/stable/user_install.html\n",
      "  from .autonotebook import tqdm as notebook_tqdm\n"
     ]
    },
    {
     "name": "stdout",
     "output_type": "stream",
     "text": [
      "Running on local URL:  http://127.0.0.1:7869\n",
      "\n",
      "To create a public link, set `share=True` in `launch()`.\n"
     ]
    },
    {
     "data": {
      "text/html": [
       "<div><iframe src=\"http://127.0.0.1:7869/\" width=\"100%\" height=\"500\" allow=\"autoplay; camera; microphone; clipboard-read; clipboard-write;\" frameborder=\"0\" allowfullscreen></iframe></div>"
      ],
      "text/plain": [
       "<IPython.core.display.HTML object>"
      ]
     },
     "metadata": {},
     "output_type": "display_data"
    },
    {
     "data": {
      "text/plain": []
     },
     "execution_count": 10,
     "metadata": {},
     "output_type": "execute_result"
    }
   ],
   "source": [
    "import random\n",
    "import gradio as gr\n",
    "\n",
    "def get_response(message, history):# Load the vectorestore back.\n",
    "    dataPath = \"./data/\"\n",
    "    store = FAISS.load_local(f\"{dataPath}nv_embedding\", embedder,allow_dangerous_deserialization=True)\n",
    "    retriever = store.as_retriever()\n",
    "\n",
    "    prompt = ChatPromptTemplate.from_messages(\n",
    "        [\n",
    "            (\n",
    "                \"system\",\n",
    "                \"Answer solely based on the following context:\\n<Documents>\\n{context}\\n</Documents>\",\n",
    "            ),\n",
    "            (\"user\", \"{question}\"),\n",
    "        ]\n",
    "    )\n",
    "\n",
    "    chain = (\n",
    "        {\"context\": retriever, \"question\": RunnablePassthrough()}\n",
    "        | prompt\n",
    "        | llm\n",
    "        | StrOutputParser()\n",
    "    )\n",
    "\n",
    "    return chain.invoke(message)\n",
    "\n",
    "gr.ChatInterface(get_response).launch()"
   ]
  }
 ],
 "metadata": {
  "kernelspec": {
   "display_name": "AIEndPoint",
   "language": "python",
   "name": "python3"
  },
  "language_info": {
   "codemirror_mode": {
    "name": "ipython",
    "version": 3
   },
   "file_extension": ".py",
   "mimetype": "text/x-python",
   "name": "python",
   "nbconvert_exporter": "python",
   "pygments_lexer": "ipython3",
   "version": "3.10.14"
  }
 },
 "nbformat": 4,
 "nbformat_minor": 2
}
